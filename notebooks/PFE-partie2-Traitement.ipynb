{
 "cells": [
  {
   "cell_type": "markdown",
   "metadata": {},
   "source": [
    "# Projet de fin d'étude - Parties finales (catégorisation/classification client - prédiction (ML))\n",
    "## Camille Bouberka - Armand Dusart - Jules Enguehard\n",
    "## encadrant : Martin Nasse\n",
    "## 2020-2021 - ESME Sudria "
   ]
  },
  {
   "cell_type": "markdown",
   "metadata": {},
   "source": [
    "<p>Lors de la phase précédente (exploration de données) nous avons remarqué 2 types de factures : Les factures normales (à montant positif) et les factures annulées (à montant négatif)<p>\n",
    "<p>De plus, certaines valeurs paraissent aberrantes<p>"
   ]
  },
  {
   "cell_type": "markdown",
   "metadata": {},
   "source": [
    "# 2 - Traitement"
   ]
  },
  {
   "cell_type": "code",
   "execution_count": 46,
   "metadata": {},
   "outputs": [
    {
     "name": "stdout",
     "output_type": "stream",
     "text": [
      "InvoiceNo      541909\n",
      "StockCode      541909\n",
      "Description    540455\n",
      "Quantity       541909\n",
      "InvoiceDate    541909\n",
      "UnitPrice      541909\n",
      "CustomerID     406829\n",
      "Country        541909\n",
      "dtype: int64\n",
      "<class 'pandas.core.frame.DataFrame'>\n",
      "RangeIndex: 541909 entries, 0 to 541908\n",
      "Data columns (total 8 columns):\n",
      " #   Column       Non-Null Count   Dtype  \n",
      "---  ------       --------------   -----  \n",
      " 0   InvoiceNo    541909 non-null  object \n",
      " 1   StockCode    541909 non-null  object \n",
      " 2   Description  540455 non-null  object \n",
      " 3   Quantity     541909 non-null  int64  \n",
      " 4   InvoiceDate  541909 non-null  object \n",
      " 5   UnitPrice    541909 non-null  float64\n",
      " 6   CustomerID   406829 non-null  float64\n",
      " 7   Country      541909 non-null  object \n",
      "dtypes: float64(2), int64(1), object(5)\n",
      "memory usage: 33.1+ MB\n",
      "None\n"
     ]
    }
   ],
   "source": [
    "from pandas import read_csv\n",
    "df = read_csv(\"Online_Retail.csv\", sep=\";\").drop(\"Unnamed: 0\", axis=1)\n",
    "print(df.count())\n",
    "print(df.info())"
   ]
  },
  {
   "cell_type": "markdown",
   "metadata": {},
   "source": [
    "## 2.1 - Pré-traitement"
   ]
  },
  {
   "cell_type": "markdown",
   "metadata": {},
   "source": [
    "On peut observer qu'il manque de valeurs, il faut donc supprimer les lignes nulles et donner le bon type aux colonnes qui en ont besoin"
   ]
  },
  {
   "cell_type": "code",
   "execution_count": 47,
   "metadata": {},
   "outputs": [
    {
     "data": {
      "text/plain": [
       "InvoiceNo      406829\n",
       "StockCode      406829\n",
       "Description    406829\n",
       "Quantity       406829\n",
       "InvoiceDate    406829\n",
       "UnitPrice      406829\n",
       "CustomerID     406829\n",
       "Country        406829\n",
       "dtype: int64"
      ]
     },
     "execution_count": 47,
     "metadata": {},
     "output_type": "execute_result"
    }
   ],
   "source": [
    "df = df.dropna()\n",
    "df['CustomerID'] = df['CustomerID'].astype(int)\n",
    "df.count()"
   ]
  },
  {
   "cell_type": "markdown",
   "metadata": {},
   "source": [
    "## 2.2 - Ajout de la colonne CA représentant la consommation des clients (Quantity*UnitPrice)"
   ]
  },
  {
   "cell_type": "markdown",
   "metadata": {},
   "source": [
    "Afin de déterminer les valeurs aberrantes, il faut créer un indicateur de consommation."
   ]
  },
  {
   "cell_type": "code",
   "execution_count": 48,
   "metadata": {},
   "outputs": [
    {
     "data": {
      "text/html": [
       "<div>\n",
       "<style scoped>\n",
       "    .dataframe tbody tr th:only-of-type {\n",
       "        vertical-align: middle;\n",
       "    }\n",
       "\n",
       "    .dataframe tbody tr th {\n",
       "        vertical-align: top;\n",
       "    }\n",
       "\n",
       "    .dataframe thead th {\n",
       "        text-align: right;\n",
       "    }\n",
       "</style>\n",
       "<table border=\"1\" class=\"dataframe\">\n",
       "  <thead>\n",
       "    <tr style=\"text-align: right;\">\n",
       "      <th></th>\n",
       "      <th>Quantity</th>\n",
       "      <th>UnitPrice</th>\n",
       "      <th>CustomerID</th>\n",
       "      <th>CA</th>\n",
       "    </tr>\n",
       "  </thead>\n",
       "  <tbody>\n",
       "    <tr>\n",
       "      <th>count</th>\n",
       "      <td>406829.000000</td>\n",
       "      <td>406829.000000</td>\n",
       "      <td>406829.000000</td>\n",
       "      <td>406829.000000</td>\n",
       "    </tr>\n",
       "    <tr>\n",
       "      <th>mean</th>\n",
       "      <td>12.061303</td>\n",
       "      <td>3.460471</td>\n",
       "      <td>15287.690570</td>\n",
       "      <td>20.401854</td>\n",
       "    </tr>\n",
       "    <tr>\n",
       "      <th>std</th>\n",
       "      <td>248.693370</td>\n",
       "      <td>69.315162</td>\n",
       "      <td>1713.600303</td>\n",
       "      <td>427.591718</td>\n",
       "    </tr>\n",
       "    <tr>\n",
       "      <th>min</th>\n",
       "      <td>-80995.000000</td>\n",
       "      <td>0.000000</td>\n",
       "      <td>12346.000000</td>\n",
       "      <td>-168469.600000</td>\n",
       "    </tr>\n",
       "    <tr>\n",
       "      <th>25%</th>\n",
       "      <td>2.000000</td>\n",
       "      <td>1.250000</td>\n",
       "      <td>13953.000000</td>\n",
       "      <td>4.200000</td>\n",
       "    </tr>\n",
       "    <tr>\n",
       "      <th>50%</th>\n",
       "      <td>5.000000</td>\n",
       "      <td>1.950000</td>\n",
       "      <td>15152.000000</td>\n",
       "      <td>11.100000</td>\n",
       "    </tr>\n",
       "    <tr>\n",
       "      <th>75%</th>\n",
       "      <td>12.000000</td>\n",
       "      <td>3.750000</td>\n",
       "      <td>16791.000000</td>\n",
       "      <td>19.500000</td>\n",
       "    </tr>\n",
       "    <tr>\n",
       "      <th>max</th>\n",
       "      <td>80995.000000</td>\n",
       "      <td>38970.000000</td>\n",
       "      <td>18287.000000</td>\n",
       "      <td>168469.600000</td>\n",
       "    </tr>\n",
       "  </tbody>\n",
       "</table>\n",
       "</div>"
      ],
      "text/plain": [
       "            Quantity      UnitPrice     CustomerID             CA\n",
       "count  406829.000000  406829.000000  406829.000000  406829.000000\n",
       "mean       12.061303       3.460471   15287.690570      20.401854\n",
       "std       248.693370      69.315162    1713.600303     427.591718\n",
       "min    -80995.000000       0.000000   12346.000000 -168469.600000\n",
       "25%         2.000000       1.250000   13953.000000       4.200000\n",
       "50%         5.000000       1.950000   15152.000000      11.100000\n",
       "75%        12.000000       3.750000   16791.000000      19.500000\n",
       "max     80995.000000   38970.000000   18287.000000  168469.600000"
      ]
     },
     "execution_count": 48,
     "metadata": {},
     "output_type": "execute_result"
    }
   ],
   "source": [
    "df['CA'] = df['Quantity'] * df['UnitPrice'] #406829\n",
    "df['CA'] = df['CA'].round(2) #On arrondie à 2 chiffres après la virgule\n",
    "df.describe()"
   ]
  },
  {
   "cell_type": "markdown",
   "metadata": {},
   "source": [
    "Ainsi, grâce à la colonne CA, on remarque qu'il y a effectivement des clients disposant de valeurs aberrantes (ex - valeur min : -168469)\n",
    "<p style=\"color:#CB4919;\">Nous allons regrouper la consommation (CA) par client afin de faire ressortir les clients qui nous paraissent aberrants<p>"
   ]
  },
  {
   "cell_type": "code",
   "execution_count": 49,
   "metadata": {},
   "outputs": [
    {
     "name": "stdout",
     "output_type": "stream",
     "text": [
      "Nombre de clients aberrants en % :  1.17 %\n"
     ]
    }
   ],
   "source": [
    "from pandas import unique\n",
    "client_conso_total = df.groupby(by=['CustomerID']).sum()\n",
    "client_negatif =  client_conso_total[client_conso_total['CA'] <= 0].index\n",
    "print(\"Nombre de clients aberrants en % : \",round(len(client_negatif)/len(unique(df['CustomerID'])),4)*100,\"%\")"
   ]
  },
  {
   "cell_type": "markdown",
   "metadata": {},
   "source": [
    "Nous avons définit ici, que les clients dit aberrants sont ceux disposant d'une consommation totale <label style=\"color:#CB4919;\" >nulle ou négative</label><p>\n",
    "Au vu du nombre faible de clients aberrants, nous avons pris la décision de les <label style=\"color:#CB4919;\" >supprimer</label>"
   ]
  },
  {
   "cell_type": "code",
   "execution_count": 50,
   "metadata": {},
   "outputs": [
    {
     "data": {
      "text/plain": [
       "CustomerID     406494\n",
       "InvoiceNo      406494\n",
       "StockCode      406494\n",
       "Description    406494\n",
       "Quantity       406494\n",
       "InvoiceDate    406494\n",
       "UnitPrice      406494\n",
       "Country        406494\n",
       "CA             406494\n",
       "dtype: int64"
      ]
     },
     "execution_count": 50,
     "metadata": {},
     "output_type": "execute_result"
    }
   ],
   "source": [
    "df = df.set_index(\"CustomerID\").drop(client_negatif).reset_index()\n",
    "df.count()"
   ]
  },
  {
   "cell_type": "markdown",
   "metadata": {},
   "source": [
    "## 2.3 - Suppression des factures annulables et aberrantes"
   ]
  },
  {
   "cell_type": "markdown",
   "metadata": {},
   "source": [
    "### 2.3.1 - Suppression des factures avec un prix unitaire nul"
   ]
  },
  {
   "cell_type": "code",
   "execution_count": 51,
   "metadata": {},
   "outputs": [
    {
     "data": {
      "text/html": [
       "<div>\n",
       "<style scoped>\n",
       "    .dataframe tbody tr th:only-of-type {\n",
       "        vertical-align: middle;\n",
       "    }\n",
       "\n",
       "    .dataframe tbody tr th {\n",
       "        vertical-align: top;\n",
       "    }\n",
       "\n",
       "    .dataframe thead th {\n",
       "        text-align: right;\n",
       "    }\n",
       "</style>\n",
       "<table border=\"1\" class=\"dataframe\">\n",
       "  <thead>\n",
       "    <tr style=\"text-align: right;\">\n",
       "      <th></th>\n",
       "      <th>CA</th>\n",
       "      <th>UnitPrice</th>\n",
       "    </tr>\n",
       "  </thead>\n",
       "  <tbody>\n",
       "    <tr>\n",
       "      <th>count</th>\n",
       "      <td>406494.000000</td>\n",
       "      <td>406494.000000</td>\n",
       "    </tr>\n",
       "    <tr>\n",
       "      <th>mean</th>\n",
       "      <td>20.451212</td>\n",
       "      <td>3.433818</td>\n",
       "    </tr>\n",
       "    <tr>\n",
       "      <th>std</th>\n",
       "      <td>391.925336</td>\n",
       "      <td>68.917552</td>\n",
       "    </tr>\n",
       "    <tr>\n",
       "      <th>min</th>\n",
       "      <td>-168469.600000</td>\n",
       "      <td>0.000000</td>\n",
       "    </tr>\n",
       "    <tr>\n",
       "      <th>25%</th>\n",
       "      <td>4.200000</td>\n",
       "      <td>1.250000</td>\n",
       "    </tr>\n",
       "    <tr>\n",
       "      <th>50%</th>\n",
       "      <td>11.250000</td>\n",
       "      <td>1.950000</td>\n",
       "    </tr>\n",
       "    <tr>\n",
       "      <th>75%</th>\n",
       "      <td>19.500000</td>\n",
       "      <td>3.750000</td>\n",
       "    </tr>\n",
       "    <tr>\n",
       "      <th>max</th>\n",
       "      <td>168469.600000</td>\n",
       "      <td>38970.000000</td>\n",
       "    </tr>\n",
       "  </tbody>\n",
       "</table>\n",
       "</div>"
      ],
      "text/plain": [
       "                  CA      UnitPrice\n",
       "count  406494.000000  406494.000000\n",
       "mean       20.451212       3.433818\n",
       "std       391.925336      68.917552\n",
       "min   -168469.600000       0.000000\n",
       "25%         4.200000       1.250000\n",
       "50%        11.250000       1.950000\n",
       "75%        19.500000       3.750000\n",
       "max    168469.600000   38970.000000"
      ]
     },
     "execution_count": 51,
     "metadata": {},
     "output_type": "execute_result"
    }
   ],
   "source": [
    "df[['CA','UnitPrice']].describe()"
   ]
  },
  {
   "cell_type": "markdown",
   "metadata": {},
   "source": [
    "On peut remarquer qu'il y a des factures disposant d'un prix unitaire nul"
   ]
  },
  {
   "cell_type": "code",
   "execution_count": 52,
   "metadata": {},
   "outputs": [
    {
     "name": "stdout",
     "output_type": "stream",
     "text": [
      "Nombre de factures à prix unitaire nul en % :  0.01 %\n"
     ]
    }
   ],
   "source": [
    "print(\"Nombre de factures à prix unitaire nul en % : \",round(len(df[df['UnitPrice'] == 0])/len(df),4)*100,\"%\")"
   ]
  },
  {
   "cell_type": "markdown",
   "metadata": {},
   "source": [
    "Au vu du nombre faible de factures aberrantes, nous avons pris la décision de les <label style=\"color:#CB4919;\" >supprimer</label>"
   ]
  },
  {
   "cell_type": "markdown",
   "metadata": {},
   "source": [
    "### 2.3.2 - Suppression des factures dites \"annulables\""
   ]
  },
  {
   "cell_type": "code",
   "execution_count": 53,
   "metadata": {},
   "outputs": [
    {
     "data": {
      "text/html": [
       "<div>\n",
       "<style scoped>\n",
       "    .dataframe tbody tr th:only-of-type {\n",
       "        vertical-align: middle;\n",
       "    }\n",
       "\n",
       "    .dataframe tbody tr th {\n",
       "        vertical-align: top;\n",
       "    }\n",
       "\n",
       "    .dataframe thead th {\n",
       "        text-align: right;\n",
       "    }\n",
       "</style>\n",
       "<table border=\"1\" class=\"dataframe\">\n",
       "  <thead>\n",
       "    <tr style=\"text-align: right;\">\n",
       "      <th></th>\n",
       "      <th>Description</th>\n",
       "      <th>CustomerID</th>\n",
       "      <th>Quantity</th>\n",
       "      <th>UnitPrice</th>\n",
       "      <th>CA</th>\n",
       "    </tr>\n",
       "    <tr>\n",
       "      <th>InvoiceNo</th>\n",
       "      <th></th>\n",
       "      <th></th>\n",
       "      <th></th>\n",
       "      <th></th>\n",
       "      <th></th>\n",
       "    </tr>\n",
       "  </thead>\n",
       "  <tbody>\n",
       "    <tr>\n",
       "      <th>C581484</th>\n",
       "      <td>PAPER CRAFT , LITTLE BIRDIE</td>\n",
       "      <td>16446</td>\n",
       "      <td>-80995</td>\n",
       "      <td>2.08</td>\n",
       "      <td>-168469.6</td>\n",
       "    </tr>\n",
       "    <tr>\n",
       "      <th>C556445</th>\n",
       "      <td>Manual</td>\n",
       "      <td>15098</td>\n",
       "      <td>-1</td>\n",
       "      <td>38970.00</td>\n",
       "      <td>-38970.0</td>\n",
       "    </tr>\n",
       "    <tr>\n",
       "      <th>581483</th>\n",
       "      <td>PAPER CRAFT , LITTLE BIRDIE</td>\n",
       "      <td>16446</td>\n",
       "      <td>80995</td>\n",
       "      <td>2.08</td>\n",
       "      <td>168469.6</td>\n",
       "    </tr>\n",
       "    <tr>\n",
       "      <th>556444</th>\n",
       "      <td>PICNIC BASKET WICKER 60 PIECES</td>\n",
       "      <td>15098</td>\n",
       "      <td>60</td>\n",
       "      <td>649.50</td>\n",
       "      <td>38970.0</td>\n",
       "    </tr>\n",
       "  </tbody>\n",
       "</table>\n",
       "</div>"
      ],
      "text/plain": [
       "                              Description  CustomerID  Quantity  UnitPrice  \\\n",
       "InvoiceNo                                                                    \n",
       "C581484       PAPER CRAFT , LITTLE BIRDIE       16446    -80995       2.08   \n",
       "C556445                            Manual       15098        -1   38970.00   \n",
       "581483        PAPER CRAFT , LITTLE BIRDIE       16446     80995       2.08   \n",
       "556444     PICNIC BASKET WICKER 60 PIECES       15098        60     649.50   \n",
       "\n",
       "                 CA  \n",
       "InvoiceNo            \n",
       "C581484   -168469.6  \n",
       "C556445    -38970.0  \n",
       "581483     168469.6  \n",
       "556444      38970.0  "
      ]
     },
     "execution_count": 53,
     "metadata": {},
     "output_type": "execute_result"
    }
   ],
   "source": [
    "index = [\"C581484\",\"C556445\",\"581483\",\"556444\"]\n",
    "exemple = df.set_index(\"InvoiceNo\").loc[index]\n",
    "exemple[['Description','CustomerID','Quantity','UnitPrice','CA']]"
   ]
  },
  {
   "cell_type": "code",
   "execution_count": 54,
   "metadata": {},
   "outputs": [
    {
     "name": "stdout",
     "output_type": "stream",
     "text": [
      "Nombre de factures annulées :  8695\n"
     ]
    }
   ],
   "source": [
    "print(\"Nombre de factures annulées : \",len([v for v in df['InvoiceNo'] if \"C\" in v]))"
   ]
  },
  {
   "cell_type": "markdown",
   "metadata": {},
   "source": [
    "Vu le nombre de factures annulées, cela peut entrainer des valeurs aberrantes pour les futurs traitement\n",
    "<p>\n",
    "    Il n'y a pas de règles générales qui permettrait d'annulées ces factures : \n",
    "    <p>\n",
    "        Doublons, annulations qui correspond à plusieurs ou aucune facture, méthodes de calcules des montants changeantes etc \n",
    "<p>\n",
    "<p>Cependant pour limiter leur impact, une règle correspondante à de nombreuses factures a été établi afin de les supprimer\n",
    "<p style=\"color:#CB4919;\">On declare une facture positive annulée si elle correspond à une facture négative par une égalité sur les colonnes suivantes : CustomerID, CA (en absolut), StockCode</p>"
   ]
  },
  {
   "cell_type": "code",
   "execution_count": 62,
   "metadata": {},
   "outputs": [
    {
     "name": "stdout",
     "output_type": "stream",
     "text": [
      "0%\n",
      "10 %\n",
      "20 %\n",
      "30 %\n",
      "40 %\n",
      "50 %\n",
      "60 %\n",
      "70 %\n",
      "80 %\n",
      "90 %\n",
      "100 %\n",
      "Pourcentage de factures annulées:  35.17 %\n"
     ]
    }
   ],
   "source": [
    "from pandas import concat, DataFrame\n",
    "import warnings\n",
    "warnings.filterwarnings(\"ignore\")\n",
    "\n",
    "df_index = df.reset_index().set_index('InvoiceNo')\n",
    "liste_neg = list(set([inv for inv in df['InvoiceNo'] if \"C\" in inv]))\n",
    "df_neg = df_index.loc[liste_neg,:].reset_index()\n",
    "df_pos = df_index.drop(liste_neg).reset_index()\n",
    "df_invoice_drop = DataFrame(columns=df_pos.columns)\n",
    "av = 0\n",
    "print(\"0%\")\n",
    "for inv,row in df_neg.iterrows() :   \n",
    "    #temps correspond au nombre de factures positives égales à une facture négative\n",
    "    temps = df_pos[(df_pos['CustomerID'] == row['CustomerID']) & (df_pos['CA'] == abs(row['CA'])) & (df_pos['StockCode'] == row['StockCode'])].values\n",
    "    #s'il y a plusieurs factures positives correspondant, on supprime la première\n",
    "    if len(temps) > 1:\n",
    "        df_invoice_drop.loc[inv,:] = temps[0]\n",
    "    elif temps == [] :\n",
    "        df_invoice_drop.loc[inv,:] = None\n",
    "    elif len(temps) == 1:\n",
    "        df_invoice_drop.loc[inv,:] = temps\n",
    "    #Etat d'avancement du traitement \n",
    "    t = av\n",
    "    av = round((inv/len(df_neg))*100)+1\n",
    "    if av%10 == 0 and t != av:\n",
    "        print(av,\"%\")\n",
    "\n",
    "liste_drop_pos = df_invoice_drop.dropna()\n",
    "liste_drop_neg = df_neg.loc[liste_drop_pos.index,:]\n",
    "liste_val_drop = concat([liste_drop_neg,liste_drop_pos]).set_index('index')\n",
    "df_traitement = df.drop(liste_val_drop.index)\n",
    "\n",
    "print(\"Pourcentage de factures annulées: \",round((len(liste_drop_neg)/len(df_neg)),4)*100,\"%\")"
   ]
  },
  {
   "cell_type": "code",
   "execution_count": 63,
   "metadata": {},
   "outputs": [],
   "source": [
    "df_traitement.to_csv(r'C:\\Users\\arman\\Desktop\\data\\Online_Retail_traitemant.csv',sep=\";\",index=False)"
   ]
  }
 ],
 "metadata": {
  "kernelspec": {
   "display_name": "Python 3",
   "language": "python",
   "name": "python3"
  },
  "language_info": {
   "codemirror_mode": {
    "name": "ipython",
    "version": 3
   },
   "file_extension": ".py",
   "mimetype": "text/x-python",
   "name": "python",
   "nbconvert_exporter": "python",
   "pygments_lexer": "ipython3",
   "version": "3.7.9"
  }
 },
 "nbformat": 4,
 "nbformat_minor": 4
}
